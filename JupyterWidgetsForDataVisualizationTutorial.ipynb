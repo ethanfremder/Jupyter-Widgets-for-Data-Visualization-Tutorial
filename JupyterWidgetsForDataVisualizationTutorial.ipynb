{
 "cells": [
  {
   "cell_type": "markdown",
   "id": "b8b1fc5e-51b8-43a8-b36f-0c710a1dc964",
   "metadata": {},
   "source": [
    "# Jupyter Widgets"
   ]
  },
  {
   "cell_type": "markdown",
   "id": "c03e877b-8035-49ff-90bb-3af754677b06",
   "metadata": {},
   "source": [
    "### A Walk Through of the Most Useful Widgets for Data Visualization"
   ]
  },
  {
   "cell_type": "markdown",
   "id": "f379a51e-01b6-44d9-a101-4ebecfa224b9",
   "metadata": {},
   "source": [
    "Importing necessary modules for the notebook. Pandas is used for loading in the dataset and for basic data manipulation. Numpy is used for various calculations. Matplotlib and Seaborn are used for the data visualization. And IPython is used to display the widgets alongside the visualizations. "
   ]
  },
  {
   "cell_type": "code",
   "execution_count": null,
   "id": "ed5d9b00-3aa3-4188-9471-41f075436632",
   "metadata": {},
   "outputs": [],
   "source": [
    "# importing other modules\n",
    "import pandas as pd\n",
    "import numpy as np\n",
    "import matplotlib.pyplot as plt\n",
    "import seaborn as sns\n",
    "from IPython.display import display"
   ]
  },
  {
   "cell_type": "markdown",
   "id": "cbbbc3ea-e73a-4ba5-a1ba-756544b8b7cb",
   "metadata": {},
   "source": [
    "#### Importing ipywidgets"
   ]
  },
  {
   "cell_type": "markdown",
   "id": "0a91f69a-c98a-48e2-80c8-0e65c215dadd",
   "metadata": {},
   "source": [
    "Below is the import to use ipywidgets in the notebook:"
   ]
  },
  {
   "cell_type": "code",
   "execution_count": null,
   "id": "2cde0777-9090-4523-95a3-1bc93e6afc06",
   "metadata": {},
   "outputs": [],
   "source": [
    "# loading in jupyter widgets\n",
    "import ipywidgets as widgets"
   ]
  },
  {
   "cell_type": "markdown",
   "id": "12e7f598-1fdf-45e2-9617-cadcaddd7bed",
   "metadata": {},
   "source": [
    "#### The Dataset"
   ]
  },
  {
   "cell_type": "markdown",
   "id": "8a99e87f-8f2d-4be7-a4b0-b5bbca09bbc4",
   "metadata": {},
   "source": [
    "The dataset used throughout this notebook is the auto-mpg dataset from Kaggle:\n",
    "\n",
    "https://www.kaggle.com/datasets/uciml/autompg-dataset"
   ]
  },
  {
   "cell_type": "code",
   "execution_count": null,
   "id": "77c63e59-d271-48de-8def-16ba1586d068",
   "metadata": {},
   "outputs": [],
   "source": [
    "# load in and clean the data\n",
    "auto = pd.read_csv(\"auto-mpg.csv\")\n",
    "auto.replace(\"?\", np.nan, inplace = True)\n",
    "auto.dropna(inplace = True)\n",
    "auto.head()"
   ]
  },
  {
   "cell_type": "markdown",
   "id": "0e53f43e-46d2-4318-966c-b8a7d52c9cf0",
   "metadata": {},
   "source": [
    "## Jupyter Widgets"
   ]
  },
  {
   "cell_type": "markdown",
   "id": "2a8063d8-695b-4061-87a8-b2f43522142f",
   "metadata": {},
   "source": [
    "Jupyter Widgets are interactive features that one can add to their visualizations for filtering or adjusting the plot. There are a few main types of widgets: checkboxes, buttons, and sliders. Each widget has its own special use and it is up to the designer on which fits the best for the task at hand. Within each type of widget, there are different parameters for customization. All of the parameters can be accessed using the .keys method:"
   ]
  },
  {
   "cell_type": "code",
   "execution_count": null,
   "id": "b9254370-10cc-48d3-839b-2c6b681cd193",
   "metadata": {},
   "outputs": [],
   "source": [
    "# accessing the possible parameters using the .keys method (example used on the Checkbox Widget)\n",
    "print(widgets.Checkbox().keys)"
   ]
  },
  {
   "cell_type": "markdown",
   "id": "38586eed-4edd-4852-84e7-8ceec1a7b386",
   "metadata": {},
   "source": [
    "Using all of these parameters is not required but they are useful to create the desired widget.\n",
    "\n",
    "Some of the more useful and common keys are:\n",
    "\n",
    "    continous_update: determines if the plot updates as the user slides across values\n",
    "    description:      a string acting as a label, displayed next to the widget\n",
    "    disabled:         a boolean value that determines whether or not the user can interact with the widget\n",
    "    indent:           a boolean value that determines whether the widget is indented or not\n",
    "    layout:           used to set width and height values to the widget\n",
    "    max:              the maximum value available in the widget\n",
    "    min:              the minimum value available in the widget\n",
    "    options:          a list of options a user can choose from\n",
    "    orientation:      determines how the widget is displayed, usually 'horizontal' or 'vertical'\n",
    "    readout:          determines whether or not the current value is displayed next to widget\n",
    "    readout_format:   the format in which the current value is displayed next to widget\n",
    "    step:             the increment in which the widget moves from one value to the next\n",
    "    style:            used to customize color or font attributes of widget\n",
    "    tooltip:          a text 'tip' that appears when hovering over the widget to provide guidence\n",
    "    value:            the default value of the widget before user interaction\n"
   ]
  },
  {
   "cell_type": "markdown",
   "id": "305d5b86-3f20-4bca-bd8d-3a6d77a8728f",
   "metadata": {},
   "source": [
    "#### The Checkbox Widget"
   ]
  },
  {
   "cell_type": "markdown",
   "id": "40f3145d-ac5c-452c-a5bc-5304d4bac29b",
   "metadata": {},
   "source": [
    "The Checkbox widget is a boolean widget, meaning it is either on or off, true or false, checked or unchecked. It creates a literal checkbox that can be checked and unchecked by the user.  \n",
    "\n",
    "Here is a simple Checkbox implementation:"
   ]
  },
  {
   "cell_type": "code",
   "execution_count": null,
   "id": "cc929b76-9b87-4d93-a4b6-b248f163536b",
   "metadata": {},
   "outputs": [],
   "source": [
    "# simple Checkbox widget implementation\n",
    "widgets.Checkbox(\n",
    "    description = \"Checkbox\",    # description is set to \"Checkbox\" because that is the label I want\n",
    "    indent = False,              # indent is set to False because I do not want the checkbox indented\n",
    "    value = False                # value is set to False so it begins as an unchecked box\n",
    ")"
   ]
  },
  {
   "cell_type": "markdown",
   "id": "8f992413-731d-48a6-a2c5-c4875b5859a5",
   "metadata": {},
   "source": [
    "A checkbox can be very useful for applying a simple filter to data visualizations. Some examples include:\n",
    "- Applying an average line on a visual with bar charts\n",
    "- Displaying a fitted regression line to a scatter plot\n",
    "- Adding a filter-by method to the visualization\n",
    "\n",
    "Below is an example of the third option, adding a filter-by method. The visualization below plots the Miles Per Gallon variable of cars over the years. With the box unchecked, the graph provides a look into every car, no matter the amount of cylinders. But when the box is checked, the audience is provided with a break down of number of cylinders by color. \n",
    "\n",
    "Pro Tip: In this visualization, the palette is set to \"colorblind\". Often times, color maps are difficult to differentiate certain colors for those with a Color Vision Deficiency. This can lead to misinterpreted visualizations. By using a CVD friendly palette, not only can those with CVD see the clear color differences but it also leads to less of a chance of the visualization being misinterpreted (Nuñez et al. 2017)."
   ]
  },
  {
   "cell_type": "code",
   "execution_count": null,
   "id": "5e23f1a3-487c-4279-b4f4-3193b04469fa",
   "metadata": {},
   "outputs": [],
   "source": [
    "# example of Checkbox used with data\n",
    "checkbox = widgets.Checkbox(description = \"Click to Color by Cylinders!\", indent = True, value = False)\n",
    "\n",
    "def update(use_color):                           # function to update the input for the visual based on the checkbox value                   \n",
    "    if use_color:                                # when the checkbox is clicked, this block will run\n",
    "        hue = \"cylinders\"\n",
    "        title = \"MPG vs Model Year by Cylinder\"\n",
    "        legend = \"Number of Cylinders\"\n",
    "    else:                                        # when the checkbox is not checked, this block will run\n",
    "        hue = None\n",
    "        title = \"MPG vs Model Year\"\n",
    "\n",
    "    plt.figure(figsize = (8,5))\n",
    "    sns.scatterplot(data = auto, x = \"model year\", y = \"mpg\", hue = hue, palette = \"colorblind\")\n",
    "    plt.title(title)\n",
    "    plt.xlabel(\"Model Year\")\n",
    "    plt.ylabel(\"MPG\")\n",
    "    if use_color:\n",
    "        plt.legend(title = legend)\n",
    "    plt.show()\n",
    "\n",
    "# reacts to user interaction and updates the visualization based on the checkbox value\n",
    "interactive_output = widgets.interactive_output(update, {\"use_color\": checkbox})\n",
    "\n",
    "# displays the checkbox and the updated visualization\n",
    "display(checkbox, interactive_output)"
   ]
  },
  {
   "cell_type": "markdown",
   "id": "502e14ed-e159-4f16-a418-52f212da2868",
   "metadata": {},
   "source": [
    "#### The Dropdown Widget"
   ]
  },
  {
   "cell_type": "markdown",
   "id": "591d08ce-3439-4161-b79f-670967f09141",
   "metadata": {},
   "source": [
    "The Dropdown widget is a selection widget, which means the value is one of the options available. The user can click on the main bar, the options will appear, and one can be chosen. \n",
    "\n",
    "Here is a simple implementation of the Dropdown widget:"
   ]
  },
  {
   "cell_type": "code",
   "execution_count": null,
   "id": "735dcf31-affa-4143-a147-99db65768ead",
   "metadata": {},
   "outputs": [],
   "source": [
    "# simple Dropdown widget implementation\n",
    "widgets.Dropdown(\n",
    "    options = [\"All\",\"Group A\",\"Group B\",\"Group C\"],   # options is the list of available items to be chosen from\n",
    "    value = \"All\",                                     # value is set to \"All\" because I want it to start off on that\n",
    "    description = \"Group:\",                            # description is set to \"Group\" because that is what is being chosen\n",
    ")"
   ]
  },
  {
   "cell_type": "markdown",
   "id": "42d55eb3-b9f3-464e-8f5d-19be415565a7",
   "metadata": {},
   "source": [
    "The dropdown widget is a great interactive tool to use when filtering on a visualization. It can be used for:\n",
    "- Filtering by a specific category from a qualitative variable\n",
    "- Choosing a sorting method on a set of data to display\n",
    "- Determining a type of visual to present\n",
    "\n",
    "Below is an example of the first option, filtering by a specific category. This visualization also plots the MPG of cars over the years. It uses the dropdown widget to filter by the origin variable. The widget allows for the user to dive into each origin on its own with the click of their mouse. \n",
    "\n",
    "Pro Tip: The initial plot is set to \"all origins\" and is not filtered. The filtering should be up to the user's choice and all of the data should be displayed to start. This is so that the user is not misled in the initial plot. This minimizes the chance of the audience misunderstanding the point of the graph, even if the author does not have bad intentions (Tufte, Chapter 2-3)."
   ]
  },
  {
   "cell_type": "code",
   "execution_count": null,
   "id": "2ccb1319-e285-40b5-9c7e-921d4245f615",
   "metadata": {},
   "outputs": [],
   "source": [
    "# example of Dropdown used with data\n",
    "dropdown = widgets.Dropdown(options = [\"All\", \"1\", \"2\", \"3\"], value = \"All\", description = \"Car Origin:\", disabled = False)\n",
    "\n",
    "def update(choice):                            # function to update the input for the visual based on the chosen value\n",
    "    if choice == \"1\":                          # if \"1\" is chosen, this block of code will run\n",
    "        data = auto[auto[\"origin\"] == 1]\n",
    "        title = \"MPG over time (origin 1)\"\n",
    "        color = \"red\"\n",
    "    elif choice == \"2\":                        # if \"2\" is chosen, this block of code will run\n",
    "        data = auto[auto[\"origin\"] == 2]\n",
    "        title = \"MPG over time (origin 2)\"\n",
    "        color = \"orange\"\n",
    "    elif choice == \"3\":                        # if \"3\" is chosen, this block of code will run\n",
    "        data = auto[auto[\"origin\"] == 3]\n",
    "        title = \"MPG over time (origin 3)\"\n",
    "        color = \"pink\"\n",
    "    else:\n",
    "        data = auto                            # if \"All\" is chosen, this block of code will run\n",
    "        title = \"MPG over time (all origins)\"\n",
    "        color = \"green\"\n",
    "\n",
    "    plt.figure(figsize = (8,5))\n",
    "    sns.regplot(data = data, x = \"model year\", y = \"mpg\", color = color, scatter = False)\n",
    "    plt.scatter(data[\"model year\"], data[\"mpg\"], color = color, s = 15)\n",
    "    plt.title(title)\n",
    "    plt.xlabel(\"Model Year\")\n",
    "    plt.ylabel(\"MPG\")\n",
    "\n",
    "# reacts to user interaction and updates the visualization based on the chosen value\n",
    "interactive_output = widgets.interactive_output(update, {\"choice\": dropdown})\n",
    "\n",
    "# displays the dropdown and the updated visualization\n",
    "display(dropdown, interactive_output)"
   ]
  },
  {
   "cell_type": "markdown",
   "id": "fcc69acb-8b8e-402e-8af6-65096246fba4",
   "metadata": {},
   "source": [
    "#### The RadioButtons Widget"
   ]
  },
  {
   "cell_type": "markdown",
   "id": "55963b2f-eef8-4b14-bc28-d8bc78f60cba",
   "metadata": {},
   "source": [
    "The RadioButtons widget is another selection widget that allows the user to choose from the available options. Instead of a drop down bar, the user is presented with buttons for each option from which they can click to choose. \n",
    "\n",
    "The RadioButtons simple implementation:"
   ]
  },
  {
   "cell_type": "code",
   "execution_count": null,
   "id": "bf3354af-7bf8-43c8-a0d0-b4e7f9c27967",
   "metadata": {},
   "outputs": [],
   "source": [
    "# simple RadioButtons implementation\n",
    "widgets.RadioButtons(\n",
    "    options = [\"All\", \"Group A\", \"Group B\", \"Group C\"],   # options is the list of available items to be chosen from\n",
    "    value = \"All\",                                        # value is set to \"All\" because I want it to start off on that\n",
    "    description = \"Groups:\"                               # description is set to \"Group\" because that is what is being chosen\n",
    ")"
   ]
  },
  {
   "cell_type": "markdown",
   "id": "bb99b7a6-e2fb-4246-9c4d-abfbfd753ae1",
   "metadata": {},
   "source": [
    "Similar to the Dropdown widget, the RadioButtons widget is great for adding an interactive filtering method to a visualization. It can be used for:\n",
    "- Filtering by a specific category from a qualitative variable\n",
    "- Choosing a sorting method on a set of data to display\n",
    "- Determining a type of visual to present\n",
    "\n",
    "Below is an example of the first option, filtering by a specific category. This visualization is the same as the RadioButtons visual, only this time using the RadioButtons widget to filter by the origin variable. This widget also allows for the user to look into the origin of their choice.\n",
    "\n",
    "Pro Tip: When working with time-series data and you want to visualize the change over time, we need to pay attention to the trend and the seasonality. The trend is what happens to the variables, are they going up? Down? No change? The seasonality focuses on whether or not there are consistent changes during a specific time period (Cairo Chapter 8)."
   ]
  },
  {
   "cell_type": "code",
   "execution_count": null,
   "id": "b51dab28-3e1c-4937-a6f0-16e07726a8cc",
   "metadata": {},
   "outputs": [],
   "source": [
    "# example of radio button with data\n",
    "button = widgets.RadioButtons(options = [\"All\", \"1\", \"2\", \"3\"], value = \"All\", description = \"Origin:\", disabled = False)\n",
    "\n",
    "def update(choice):                                 # function to update the input for the visual based on the chosen value\n",
    "    if choice == \"1\":                               # if \"1\" is chosen, this block of code will run\n",
    "        data = auto[auto[\"origin\"] == 1]\n",
    "        title = \"MPG over time (origin 1)\"\n",
    "        color = \"red\"\n",
    "    elif choice == \"2\":                             # if \"2\" is chosen, this block of code will run\n",
    "        data = auto[auto[\"origin\"] == 2]\n",
    "        title = \"MPG over time (origin 2)\"\n",
    "        color = \"orange\"\n",
    "    elif choice == \"3\":                             # if \"3\" is chosen, this block of code will run\n",
    "        data = auto[auto[\"origin\"] == 3]\n",
    "        title = \"MPG over time (origin 3)\"\n",
    "        color = \"pink\"\n",
    "    else:                                           # if \"All\" is chosen, this block of code will run\n",
    "        data = auto\n",
    "        title = \"MPG over time (all origins)\"\n",
    "        color = \"green\"\n",
    "\n",
    "    plt.figure(figsize = (8,5))\n",
    "    sns.regplot(data = data, x = \"model year\", y = \"mpg\", color = color, scatter = False)\n",
    "    plt.scatter(data[\"model year\"], data[\"mpg\"], color = color, s = 15)\n",
    "    plt.title(title)\n",
    "    plt.xlabel(\"Model Year\")\n",
    "    plt.ylabel(\"MPG\")\n",
    "\n",
    "# reacts to user interaction and updates the visualization based on the chosen value\n",
    "interactive_output = widgets.interactive_output(update, {\"choice\": button})\n",
    "\n",
    "# displays the RadioButtons and the updated visualization\n",
    "display(button, interactive_output)"
   ]
  },
  {
   "cell_type": "markdown",
   "id": "92971efc-86dd-4dfb-9236-1a8c7a31c7c8",
   "metadata": {},
   "source": [
    "#### The ToggleButtons Widget"
   ]
  },
  {
   "cell_type": "markdown",
   "id": "b4a17250-fd86-494a-816b-ea9300364c60",
   "metadata": {},
   "source": [
    "The ToggleButtons widget is a selection widget. The user is can \"toggle\" from one choice to the next, similar to the RadioButtons. The choices are presented in rectangular boxes which can be styled to the creator's preference using the \"button_style\" parameter. \n",
    "button_style can take in different inputs such as \"primary\" (blue), \"success\" (green), \"info\" (teal), \"warning\" (orange), or \"danger\" (red). It can be left blank as well.\n",
    "\n",
    "Here is a simple implementation of ToggleButtons:"
   ]
  },
  {
   "cell_type": "code",
   "execution_count": null,
   "id": "7aea91cf-b647-4f31-b35f-64cc8301ac1a",
   "metadata": {},
   "outputs": [],
   "source": [
    "# simple ToggleButtons implementation\n",
    "widgets.ToggleButtons(\n",
    "    options = [\"All\", \"Group A\", \"Group B\", \"Group C\"],   # options is the list of available items to be chosen from\n",
    "    value = \"All\",                                        # value is set to \"All\" because I want it to start off on that\n",
    "    description = \"Group:\",                               # description is set to \"Group\" because that is what is being chosen\n",
    "    button_style = \"\"                                     # button_style is the default style in this implementation\n",
    ")"
   ]
  },
  {
   "cell_type": "markdown",
   "id": "6e2643a6-991b-4028-93b8-7a7cdd358071",
   "metadata": {},
   "source": [
    "As a selection widget, ToggleButtons is great for choosing a specific group to filter by when visualizing data. Similar to Dropdown and RadioButtons, ToggleButtons can be used for:\n",
    "- Filtering by a specific category from a qualitative variable\n",
    "- Choosing a sorting method on a set of data to display\n",
    "- Determining a type of visual to present\n",
    "\n",
    "Below is an example of the first option, filtering by a specific category. This visualization is the same as the other two selection widgets, but uses the ToggleButtons widget to filter by the origin variable. This widget gives the user an option to filter by the origin of their choice.\n",
    "\n",
    "Pro Tip: Notice that the title of the visualization changes for each button that is chosen. This is so that the audience knows exactly which filter is being applied, limiting the chance of misinterpretation. A misleading visualization is sometimes unknown to the author, so we want to make sure to communicate the filter to the reader (Tufte, Chapter 2-3)."
   ]
  },
  {
   "cell_type": "code",
   "execution_count": null,
   "id": "c8c8c8ff-d3e7-429f-8fb7-e892c3f71769",
   "metadata": {},
   "outputs": [],
   "source": [
    "# example of ToggleButtons with data\n",
    "button = widgets.ToggleButtons(options = [\"All\", \"1\", \"2\", \"3\"], value = \"All\", description = \"Origin:\",\n",
    "                              disabled = False, button_style = \"info\")\n",
    "\n",
    "def update(choice):                                 # function to update the input for the visual based on the chosen value\n",
    "    if choice == \"1\":                               # if \"1\" is chosen, this block of code will run\n",
    "        data = auto[auto[\"origin\"] == 1]\n",
    "        title = \"MPG over time (origin 1)\"\n",
    "        color = \"red\"\n",
    "    elif choice == \"2\":                             # if \"2\" is chosen, this block of code will run\n",
    "        data = auto[auto[\"origin\"] == 2]\n",
    "        title = \"MPG over time (origin 2)\"\n",
    "        color = \"orange\"\n",
    "    elif choice == \"3\":                             # if \"3\" is chosen, this block of code will run\n",
    "        data = auto[auto[\"origin\"] == 3]\n",
    "        title = \"MPG over time (origin 3)\"\n",
    "        color = \"pink\"\n",
    "    else:\n",
    "        data = auto                                 # if \"All\" is chosen, this block of code will run\n",
    "        title = \"MPG over time (all origins)\"\n",
    "        color = \"green\"\n",
    "\n",
    "    plt.figure(figsize = (8,5))\n",
    "    sns.regplot(data = data, x = \"model year\", y = \"mpg\", color = color, scatter = False)\n",
    "    plt.scatter(data[\"model year\"], data[\"mpg\"], color = color, s = 15)\n",
    "    plt.title(title)\n",
    "    plt.xlabel(\"Model Year\")\n",
    "    plt.ylabel(\"MPG\")\n",
    "\n",
    "# reacts to user interaction and updates the visualization based on the chosen value\n",
    "interactive_output = widgets.interactive_output(update, {\"choice\": button})\n",
    "\n",
    "# displays the ToggleButtons and the updated visualization\n",
    "display(button, interactive_output)"
   ]
  },
  {
   "cell_type": "markdown",
   "id": "6d85e85d-e204-4f8c-aa3b-5805c89fbbe1",
   "metadata": {},
   "source": [
    "#### The IntSlider Widget"
   ]
  },
  {
   "cell_type": "markdown",
   "id": "44708284-f523-40c7-af49-9b14ac902d3b",
   "metadata": {},
   "source": [
    "The IntSlider widget is a numeric widget that allows the user to choose from a range of values on a slider. The user is presented with a slider that has a custom minimum and maximum value, along with a custom step value. \n",
    "\n",
    "Here is a simple IntSlider implementation:"
   ]
  },
  {
   "cell_type": "code",
   "execution_count": null,
   "id": "08b92e2a-9684-416c-b206-e7b8711b430e",
   "metadata": {},
   "outputs": [],
   "source": [
    "# simple IntSlider implementation \n",
    "widgets.IntSlider(\n",
    "    value = 10,                                  # default value of slider is set to 10\n",
    "    min = 0,                                     # minimum value of slider is 0\n",
    "    max = 20,                                    # maximum value of slider is 20\n",
    "    step = 1,                                    # each step in the slider is one \n",
    "    description = \"Slider:\",                     # description is set to \"Slider\"\n",
    "    continuous_update = False,                   # continuous_update is set to false, so that the return value \n",
    "                                                     # only updates when the user lets go of the slider\n",
    "    orientation = \"horizontal\",                  # the slider orientation is set to \"horizontal\"\n",
    "    readout = True,                              # the current value of the slider is shown next to it\n",
    "    readout_format = \"d\"                         # readout_format is set to \"d\" to display as integer\n",
    ")"
   ]
  },
  {
   "cell_type": "markdown",
   "id": "0ad73042-c0f1-49e4-9c06-d95a14344315",
   "metadata": {},
   "source": [
    "As a numeric widget, IntSlider can be very useful when deciding how many of something to display on a visualization. Specifically, the IntSlider can be used to:\n",
    "- Choose a number of bins in a histogram\n",
    "- Determine the top x amount of some variable to plot\n",
    "- Apply a coefficient or lambda on a regression\n",
    "\n",
    "Here is an example of the first option, choosing a number of bins for a histogram. This visualization displays the distribution of Miles Per Gallon from the vehicles in the auto dataset. The widget allows the user to choose how many bins they want to utilize in the histogram.\n",
    "\n",
    "Pro Tip: When working with a histogram (or any type of distribution), it is best to add a minimum number of bins on the graph. This is so that there is enough of a visual spread of the data. Too few bins can be misleading as it does not represent the true distribution (Cairo, Chapter 11). "
   ]
  },
  {
   "cell_type": "code",
   "execution_count": null,
   "id": "1223a9d3-c492-46f7-90dd-a35a5aa09de3",
   "metadata": {},
   "outputs": [],
   "source": [
    "# example of IntSlider with data\n",
    "slider = widgets.IntSlider(value = 25, min = 10, max = 40, step = 3, description = \"Bins:\", \n",
    "                           disabled = False, continous_update = True, orientation = \"horizontal\",\n",
    "                           readout = True, readout_format = \"d\")\n",
    "\n",
    "def update(number):                                 # function to update the number of bins based on the chosen value\n",
    "    num_bins = number                               # sets num_bins equal to the chosen value on slider\n",
    "\n",
    "    plt.figure(figsize = (10,6))\n",
    "    plt.hist(auto[\"mpg\"], bins = num_bins, color = \"firebrick\")\n",
    "    plt.title(\"Distribution of MPG\")\n",
    "    plt.xlabel(\"MPG\")\n",
    "    plt.ylabel(\"Number of Vehicles\")\n",
    "\n",
    "# reacts to user interaction and updates the visualization based on the slider value\n",
    "interactive_output = widgets.interactive_output(update, {\"number\": slider})\n",
    "\n",
    "# displays the slider and the updated visualization\n",
    "display(slider, interactive_output)"
   ]
  },
  {
   "cell_type": "markdown",
   "id": "a7a1363b-16ff-4702-9b15-c2e7792f7717",
   "metadata": {},
   "source": [
    "#### The IntRangeSlider Widget"
   ]
  },
  {
   "cell_type": "markdown",
   "id": "605db5ba-139a-491b-94ad-d04cb04c4783",
   "metadata": {},
   "source": [
    "The IntRangeSlider widget is a numeric widget and nearly identical to the IntSlider. The user is presented with a slider with a minimum and maximum value as well as a step value. The difference is that the user can select a range of values instead of one value.\n",
    "\n",
    "Here is a simple implementation of the IntRangeSlider:"
   ]
  },
  {
   "cell_type": "code",
   "execution_count": null,
   "id": "a55a84fa-f541-4eb5-8abf-0fef19850ba0",
   "metadata": {},
   "outputs": [],
   "source": [
    "# simple IntRangeSlider implementation\n",
    "widgets.IntRangeSlider(\n",
    "    value = [40, 60],                                # default range for the slider is set to 40-60\n",
    "    min = 0,                                         # minimum value of slider is set to 0\n",
    "    max = 100,                                       # maximum value of slider is set to 100\n",
    "    step = 5,                                        # step value for the range is set to 5\n",
    "    description = \"Range:\",                          # description is set to \"Range:\"\n",
    "    continuous_update = False,                       # continuous_update is set to false, so that the return value \n",
    "                                                         # only updates when the user lets go of the slider\n",
    "    orientation = \"horizontal\",                      # the slider orientation is set to \"horizontal\"\n",
    "    readout = True,                                  # the current range of the slider is shown next to it\n",
    "    readout_format = \"d\",                            # readout_format is set to \"d\" to display as integers\n",
    ")"
   ]
  },
  {
   "cell_type": "markdown",
   "id": "9af7aa76-424b-442b-8254-c4052396afbf",
   "metadata": {},
   "source": [
    "The IntRangeSlider provides very useful data visualization applications as ranges are often used as filters. Some strong uses for the IntRangeSlider include:\n",
    "- Filtering the visual by an age range\n",
    "- Applying a range of months or years to the graph\n",
    "- Selecting ranges of a variable for further analysis\n",
    "\n",
    "Here is an example of applying a range of years to a visualization. This scatterplot shows the MPG vs Acceleration for the auto dataset. The IntRangeSlider allows the user to select a range of year values to filter by. \n",
    "\n",
    "Pro Tip: A study has proven that \"position along a common scale\" is the best aspect an author can have on their data visualization to maximize the takeaway from the audience. By setting the axes to stay the same no matter the year range, it makes the visualization so much more informative as the visual has a consistent scaling to it (Cleveland and McGill)."
   ]
  },
  {
   "cell_type": "code",
   "execution_count": null,
   "id": "250f2aa2-d90e-4741-b106-dc475568ea73",
   "metadata": {},
   "outputs": [],
   "source": [
    "# example of IntRangeSlider with data\n",
    "slider = widgets.IntRangeSlider(value = [min(auto[\"model year\"]),max(auto[\"model year\"])], min = min(auto[\"model year\"]), \n",
    "                                max = max(auto[\"model year\"]), step = 1, description = \"Model Year:\", disabled = False,\n",
    "                               continuous_update = False, orientation = \"horizontal\", readout = True, readout_format = \"d\") \n",
    "\n",
    "def update(year_range):                                 # function to update the year range based on the chosen slider range\n",
    "    min_year = year_range[0]\n",
    "    max_year = year_range[1]\n",
    "    title = \"MPG vs Acceleration (19\" + str(min_year) + \"-19\" + str(max_year) + \")\"\n",
    "\n",
    "    data = auto[(auto[\"model year\"] >= min_year) & (auto[\"model year\"] <= max_year)]\n",
    "\n",
    "    plt.figure(figsize = (8,6))\n",
    "    plt.scatter(data[\"mpg\"], data[\"acceleration\"], color = \"gold\")\n",
    "    plt.xlabel(\"MPG\")\n",
    "    plt.ylabel(\"Acceleration\")\n",
    "    plt.xlim(5,50)\n",
    "    plt.ylim(7.45,25.25)\n",
    "    plt.title(title)\n",
    "\n",
    "# reacts to user interaction and updates the visualization based on the slider value\n",
    "interactive_output = widgets.interactive_output(update, {\"year_range\": slider})\n",
    "\n",
    "# displays the slider and the updated visualization\n",
    "display(slider, interactive_output)"
   ]
  },
  {
   "cell_type": "markdown",
   "id": "06b2b6ea-8deb-4db6-8869-b8377fd433ec",
   "metadata": {},
   "source": [
    "#### The FloatRangeSlider Widget"
   ]
  },
  {
   "cell_type": "markdown",
   "id": "af173707-31c5-49b4-9a78-b008c3c21b97",
   "metadata": {},
   "source": [
    "The FloatRangeSlider widget is a numeric widget and the float version of the IntSlider. The user is presented with a slider with a minimum and maximum value as well as a step value. The difference is that the user can select a range of floating point values instead of only integer values.\n",
    "\n",
    "Here is a simple implementation of the FloatRangeSlider:"
   ]
  },
  {
   "cell_type": "code",
   "execution_count": null,
   "id": "f3739cbb-7363-4a96-b607-e10e362bfbec",
   "metadata": {},
   "outputs": [],
   "source": [
    "# simple FloatRangeSlider implementation\n",
    "widgets.FloatRangeSlider(\n",
    "    value = [2.0,3.0],                               # default range for the slider is set to 2.0-3.0\n",
    "    min = 0,                                         # minimum value of slider is set to 0\n",
    "    max = 5,                                         # maximum value of slider is set to 5\n",
    "    step = 0.1,                                      # step value for the range is set to 0.1\n",
    "    description = \"Range:\",                          # description is set to \"Range:\"\n",
    "    continuous_update = False,                       # continuous_update is set to false, so that the return value \n",
    "                                                     # only updates when the user lets go of the slider\n",
    "    orientation = \"horizontal\",                      # the slider orientation is set to \"horizontal\"\n",
    "    readout = True,                                  # the current range of the slider is shown next to it\n",
    "    readout_format = \".1f\",                          # readout_format is set to \".1f\" to display as a float to the first decimal\n",
    ")"
   ]
  },
  {
   "cell_type": "markdown",
   "id": "783238bf-e25e-4158-860b-cbff712e5d19",
   "metadata": {},
   "source": [
    "The FloatRangeSlider provides very useful data visualization applications as ranges are often used as filters. Some good uses for the FloatRangeSlider include:\n",
    "- Filtering the visual by a percentage range\n",
    "- Applying a range temperature values\n",
    "- Selecting ranges of a decimal variable for further analysis\n",
    "\n",
    "Here is an example of applying a range of a decimal variable to a visualization. This scatterplot shows the weight of cars over time. The FloatRangeSlider allows the user to select a range of weight values with decimal accuracy. \n",
    "\n",
    "Pro Tip: The initial plot is set to all data and is not filtered by the slider range. The filtering should be up to the user's choice and all of the data should be displayed to start. This is so that the user is not misled in the initial plot. This minimizes the chance of the audience misunderstanding the point of the graph, even if the author does not have bad intentions (Tufte, Chapter 2-3)."
   ]
  },
  {
   "cell_type": "code",
   "execution_count": null,
   "id": "c94ef95d-58a6-46f5-ba1d-528105cd425a",
   "metadata": {},
   "outputs": [],
   "source": [
    "# example of FloatRangeSlider with data\n",
    "slider = widgets.FloatRangeSlider(value = [min(auto[\"acceleration\"]),max(auto[\"acceleration\"])], \n",
    "                                  min = min(auto[\"acceleration\"]), max = max(auto[\"acceleration\"]), step = 0.1, \n",
    "                                  description = \"Acceleration:\", disabled = False, continous_update = False, \n",
    "                                  orientation = \"vertical\", readout = True, readout_format = \".1f\")\n",
    "\n",
    "def update(acc_range):                                 # function to update the acceleration range based on the chosen slider range\n",
    "    min_acc = acc_range[0]                             # sets min_acc to the chosen minimum range value\n",
    "    max_acc = acc_range[1]                             # sets max_acc to the chosen maximum range value\n",
    "    title = \"Weights of Cars over time (Between \" + str(min_acc) + \"-\" + str(max_acc) + \" Acceleration)\"\n",
    "\n",
    "    data = auto[(auto[\"acceleration\"] >= min_acc) & (auto[\"acceleration\"] <= max_acc)]\n",
    "\n",
    "    plt.figure(figsize = (8,6))\n",
    "    sns.regplot(data = data, x = \"model year\", y = \"weight\", color = \"limegreen\", scatter =  False)\n",
    "    plt.scatter(data[\"model year\"], data[\"weight\"], color = \"green\")\n",
    "    plt.xlabel(\"Model Year\")\n",
    "    plt.ylabel(\"Weight\")\n",
    "    plt.title(title)\n",
    "    \n",
    "# reacts to user interaction and updates the visualization based on the slider value\n",
    "interactive_output = widgets.interactive_output(update, {\"acc_range\": slider})\n",
    "\n",
    "# displays the slider and the updated visualization\n",
    "display(slider, interactive_output)"
   ]
  },
  {
   "cell_type": "markdown",
   "id": "4c680fa8-5a47-426f-a68c-5649a8ad8ef8",
   "metadata": {},
   "source": [
    "#### The ColorPicker Widget"
   ]
  },
  {
   "cell_type": "markdown",
   "id": "64eaf87d-75fc-417f-948c-52fd8345d44f",
   "metadata": {},
   "source": [
    "The ColorPicker widget allows the user to choose a color from a wide range. The user can choose the color by clicking on the colored box, or they can type it into the bar. \n",
    "\n",
    "Here is a simple ColorPicker widget:"
   ]
  },
  {
   "cell_type": "code",
   "execution_count": null,
   "id": "25b94fc1-467b-4eda-a6c9-842f49d46202",
   "metadata": {},
   "outputs": [],
   "source": [
    "# simple ColorPicker implementation\n",
    "widgets.ColorPicker(\n",
    "    concise = False,                                    # concise is set to false to display the color name\n",
    "    description = \"Color:\",                             # description is set to \"Color:\"\n",
    "    value = \"green\"                                     # default color is set to \"green\"\n",
    ")"
   ]
  },
  {
   "cell_type": "markdown",
   "id": "6731e38e-410e-4967-af40-318f73113c93",
   "metadata": {},
   "source": [
    "The ColorPicker can be a fun addition to a data visualization by allowing the user to choose the color that is displayed. Some good ways to put this widget to use include:\n",
    "- Picking an overall color for a plot\n",
    "- Choosing the color of a specific feature of the visual\n",
    "- Selecting a background color\n",
    "\n",
    "Implemented below is an example of picking an overall color for a plot. The barchart shows the 10 cars with the highest MPG. The user is given a ColorPicker to determine the color of the bars.\n",
    "\n",
    "Pro Tip: When using color on a data visualization, it should be the same color all around unless there is meaning to the color. In this case, a difference in color would not be used to filter by some data, so it is the same color applied to each bar (Few, 2008)."
   ]
  },
  {
   "cell_type": "code",
   "execution_count": null,
   "id": "6caf3e64-f949-4837-a3a4-6f7f01e59c5d",
   "metadata": {},
   "outputs": [],
   "source": [
    "# example of ColorPicker with data\n",
    "color = widgets.ColorPicker(concise = False, description = \"Color:\", value = \"green\", disabled = False)\n",
    "\n",
    "def update(col):                                                          # function to update color of bars based on chosen color\n",
    "    mpg_top10 = auto.sort_values(by=\"mpg\", ascending=False).head(10)\n",
    "    \n",
    "    plt.figure(figsize=(12,6))\n",
    "    plt.bar(mpg_top10[\"car name\"], mpg_top10[\"mpg\"], color = col)\n",
    "    plt.title(\"Top Cars with Highest MPG\")\n",
    "    plt.xlabel(\"Car Name\")\n",
    "    plt.xticks(rotation = 90)\n",
    "    plt.ylabel(\"MPG\")\n",
    "\n",
    "# reacts to user interaction and updates the visualization based on the chosen color\n",
    "interactive_output = widgets.interactive_output(update, {\"col\": color})\n",
    "\n",
    "# displays the ColorPicker and the updated visualization\n",
    "display(color, interactive_output)"
   ]
  },
  {
   "cell_type": "markdown",
   "id": "b44a475a-1d33-49b7-8800-08c7cd595f75",
   "metadata": {},
   "source": [
    "#### References\n",
    "- Cairo, Alberto. \"The Truthful Art Data, Charts, and Maps for Communication Alberto Cairo\". 2016. \n",
    "- Few, Stephen. \"Practical Rules for Using Color in Charts\". 2008\n",
    "- Jamie R. Nuñez, Christopher R. Anderton, Ryan S. Renslow. \"An optimized colormap for the scientific community\". 2017\n",
    "- Tufte, Edward R. \"The Visual Display of Quantitative Information\". 2001. \n",
    "- William S. Cleveland & Robert McGill (1984) Graphical Perception: Theory,\n",
    "Experimentation, and Application to the Development of Graphical Methods, Journal of the\n",
    "American Statistical Association, 79:387, 531-554"
   ]
  }
 ],
 "metadata": {
  "kernelspec": {
   "display_name": "Python 3.11 (default)",
   "language": "python",
   "name": "python3"
  },
  "language_info": {
   "codemirror_mode": {
    "name": "ipython",
    "version": 3
   },
   "file_extension": ".py",
   "mimetype": "text/x-python",
   "name": "python",
   "nbconvert_exporter": "python",
   "pygments_lexer": "ipython3",
   "version": "3.11.11"
  }
 },
 "nbformat": 4,
 "nbformat_minor": 5
}
